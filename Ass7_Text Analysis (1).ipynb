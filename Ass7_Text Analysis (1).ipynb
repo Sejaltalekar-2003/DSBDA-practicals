{
 "cells": [
  {
   "cell_type": "markdown",
   "metadata": {
    "id": "soAEGZmPZ0PQ"
   },
   "source": [
    "* Name : Sejal Bhausaheb Talekar\n",
    "  Roll No : 2331030\n",
    "7. Text Analytics \n",
    "1. Extract sample documents and apply following document preprocessing method:\n",
    "   Tokenization , POS tagging . Stop words removal ,stemming and lemmatization.\n",
    "2. create representation of documents by calculating term frequency and inverse document frequency."
   ]
  },
  {
   "cell_type": "markdown",
   "metadata": {
    "id": "pN4U1FFiPH9H"
   },
   "source": [
    "### Tokenization"
   ]
  },
  {
   "cell_type": "code",
   "execution_count": 1,
   "metadata": {
    "colab": {
     "base_uri": "https://localhost:8080/"
    },
    "executionInfo": {
     "elapsed": 2509,
     "status": "ok",
     "timestamp": 1652528796765,
     "user": {
      "displayName": "TECOB206_ Rohit-Joshi",
      "userId": "15434995234180682292"
     },
     "user_tz": -330
    },
    "id": "zsw0Xt-rN97f",
    "outputId": "69caa78c-5634-414e-aee0-155e9c6b83d9"
   },
   "outputs": [
    {
     "name": "stderr",
     "output_type": "stream",
     "text": [
      "[nltk_data] Downloading package punkt to /home/comp/nltk_data...\n",
      "[nltk_data]   Package punkt is already up-to-date!\n",
      "[nltk_data] Downloading package wordnet to /home/comp/nltk_data...\n",
      "[nltk_data]   Package wordnet is already up-to-date!\n",
      "[nltk_data] Downloading package averaged_perceptron_tagger to\n",
      "[nltk_data]     /home/comp/nltk_data...\n",
      "[nltk_data]   Package averaged_perceptron_tagger is already up-to-\n",
      "[nltk_data]       date!\n",
      "[nltk_data] Downloading package stopwords to /home/comp/nltk_data...\n",
      "[nltk_data]   Package stopwords is already up-to-date!\n"
     ]
    }
   ],
   "source": [
    "import nltk\n",
    "nltk.download('punkt')\n",
    "nltk.download('wordnet')\n",
    "nltk.download('averaged_perceptron_tagger')\n",
    "nltk.download('stopwords')\n",
    "from nltk import sent_tokenize\n",
    "from nltk import word_tokenize\n",
    "from nltk.corpus import stopwords\n",
    "import warnings\n",
    "warnings.filterwarnings('ignore')\n",
    "\n"
   ]
  },
  {
   "cell_type": "code",
   "execution_count": 2,
   "metadata": {
    "executionInfo": {
     "elapsed": 573,
     "status": "ok",
     "timestamp": 1652528794264,
     "user": {
      "displayName": "TECOB206_ Rohit-Joshi",
      "userId": "15434995234180682292"
     },
     "user_tz": -330
    },
    "id": "l8wn2alROW8Y"
   },
   "outputs": [],
   "source": [
    "text='Real madrid is set to win the UCL for the season . Benzema might win Balon dor . Salah might be the runner up'"
   ]
  },
  {
   "cell_type": "code",
   "execution_count": 3,
   "metadata": {
    "colab": {
     "base_uri": "https://localhost:8080/"
    },
    "executionInfo": {
     "elapsed": 379,
     "status": "ok",
     "timestamp": 1652528800781,
     "user": {
      "displayName": "TECOB206_ Rohit-Joshi",
      "userId": "15434995234180682292"
     },
     "user_tz": -330
    },
    "id": "U60CN2r_O6bE",
    "outputId": "71db18ff-2f69-4a79-a28d-b28a88d66587"
   },
   "outputs": [
    {
     "name": "stdout",
     "output_type": "stream",
     "text": [
      "['Real madrid is set to win the UCL for the season .', 'Benzema might win Balon dor .', 'Salah might be the runner up']\n"
     ]
    }
   ],
   "source": [
    "tokens_sents = nltk.sent_tokenize(text)\n",
    "print(tokens_sents)"
   ]
  },
  {
   "cell_type": "code",
   "execution_count": 4,
   "metadata": {
    "colab": {
     "base_uri": "https://localhost:8080/"
    },
    "executionInfo": {
     "elapsed": 362,
     "status": "ok",
     "timestamp": 1652528804273,
     "user": {
      "displayName": "TECOB206_ Rohit-Joshi",
      "userId": "15434995234180682292"
     },
     "user_tz": -330
    },
    "id": "mFYUhpSoOfSW",
    "outputId": "c59a04eb-6f4c-4ab8-b3ec-6291e407fa9c"
   },
   "outputs": [
    {
     "name": "stdout",
     "output_type": "stream",
     "text": [
      "['Real', 'madrid', 'is', 'set', 'to', 'win', 'the', 'UCL', 'for', 'the', 'season', '.', 'Benzema', 'might', 'win', 'Balon', 'dor', '.', 'Salah', 'might', 'be', 'the', 'runner', 'up']\n"
     ]
    }
   ],
   "source": [
    "tokens_words = nltk.word_tokenize(text)\n",
    "print(tokens_words)"
   ]
  },
  {
   "cell_type": "markdown",
   "metadata": {},
   "source": [
    "# Stemming"
   ]
  },
  {
   "cell_type": "code",
   "execution_count": 5,
   "metadata": {
    "executionInfo": {
     "elapsed": 523,
     "status": "ok",
     "timestamp": 1652528807310,
     "user": {
      "displayName": "TECOB206_ Rohit-Joshi",
      "userId": "15434995234180682292"
     },
     "user_tz": -330
    },
    "id": "GEk-hq-tP4ze"
   },
   "outputs": [],
   "source": [
    "from nltk.stem import PorterStemmer\n",
    "from nltk.stem.snowball import SnowballStemmer\n",
    "from nltk.stem import LancasterStemmer"
   ]
  },
  {
   "cell_type": "code",
   "execution_count": 6,
   "metadata": {
    "colab": {
     "base_uri": "https://localhost:8080/"
    },
    "executionInfo": {
     "elapsed": 359,
     "status": "ok",
     "timestamp": 1652528810341,
     "user": {
      "displayName": "TECOB206_ Rohit-Joshi",
      "userId": "15434995234180682292"
     },
     "user_tz": -330
    },
    "id": "UsW8et7sP_m2",
    "outputId": "16fbff60-ddfd-4553-8240-00aaada81ffe"
   },
   "outputs": [
    {
     "name": "stdout",
     "output_type": "stream",
     "text": [
      "['real', 'madrid', 'is', 'set', 'to', 'win', 'the', 'ucl', 'for', 'the', 'season', '.', 'benzema', 'might', 'win', 'balon', 'dor', '.', 'salah', 'might', 'be', 'the', 'runner', 'up']\n"
     ]
    }
   ],
   "source": [
    "#list1 = ['happiness','badly']\n",
    "stem=[]\n",
    "for i in tokens_words:\n",
    "  ps = PorterStemmer()\n",
    "  stem_word= ps.stem(i)\n",
    "  stem.append(stem_word)\n",
    "print(stem)"
   ]
  },
  {
   "cell_type": "markdown",
   "metadata": {
    "id": "D5f0aXoYTahY"
   },
   "source": [
    "### Lemmatization\n"
   ]
  },
  {
   "cell_type": "code",
   "execution_count": 7,
   "metadata": {
    "executionInfo": {
     "elapsed": 363,
     "status": "ok",
     "timestamp": 1652528813224,
     "user": {
      "displayName": "TECOB206_ Rohit-Joshi",
      "userId": "15434995234180682292"
     },
     "user_tz": -330
    },
    "id": "eQoEaQzVTdwI"
   },
   "outputs": [],
   "source": [
    "import nltk\n",
    "from nltk.stem import WordNetLemmatizer \n",
    "lemmatizer = WordNetLemmatizer()"
   ]
  },
  {
   "cell_type": "code",
   "execution_count": 8,
   "metadata": {
    "colab": {
     "base_uri": "https://localhost:8080/"
    },
    "executionInfo": {
     "elapsed": 1989,
     "status": "ok",
     "timestamp": 1652528818163,
     "user": {
      "displayName": "TECOB206_ Rohit-Joshi",
      "userId": "15434995234180682292"
     },
     "user_tz": -330
    },
    "id": "ufgukosbWDK_",
    "outputId": "95b51089-af8a-4805-875c-1e1610c6af70"
   },
   "outputs": [
    {
     "name": "stderr",
     "output_type": "stream",
     "text": [
      "[nltk_data] Downloading package omw-1.4 to /home/comp/nltk_data...\n",
      "[nltk_data]   Package omw-1.4 is already up-to-date!\n"
     ]
    },
    {
     "name": "stdout",
     "output_type": "stream",
     "text": [
      "rock better friend\n"
     ]
    }
   ],
   "source": [
    "import nltk\n",
    "nltk.download('omw-1.4')\n",
    "list1 = ['rocks','better','friends']\n",
    "lemmatized_output = ' '.join([lemmatizer.lemmatize(w) for w in list1])\n",
    "print(lemmatized_output)"
   ]
  },
  {
   "cell_type": "code",
   "execution_count": 9,
   "metadata": {
    "colab": {
     "base_uri": "https://localhost:8080/"
    },
    "executionInfo": {
     "elapsed": 351,
     "status": "ok",
     "timestamp": 1652528821783,
     "user": {
      "displayName": "TECOB206_ Rohit-Joshi",
      "userId": "15434995234180682292"
     },
     "user_tz": -330
    },
    "id": "pF3rYxWHUwjQ",
    "outputId": "7155dd41-747b-4055-e33f-a08ffc21d5d5"
   },
   "outputs": [
    {
     "name": "stdout",
     "output_type": "stream",
     "text": [
      "['real', 'madrid', 'is', 'set', 'to', 'win', 'the', 'ucl', 'for', 'the', 'season', '.', 'benzema', 'might', 'win', 'balon', 'dor', '.', 'salah', 'might', 'be', 'the', 'runner', 'up']\n"
     ]
    }
   ],
   "source": [
    "lemme = []\n",
    "for word in stem:\n",
    "    lemmatized_word = lemmatizer.lemmatize(word)\n",
    "    lemme.append(lemmatized_word)\n",
    "print(lemme)"
   ]
  },
  {
   "cell_type": "markdown",
   "metadata": {
    "id": "eNoaWrAmXPKI"
   },
   "source": [
    "### Part of Speech Tagging"
   ]
  },
  {
   "cell_type": "code",
   "execution_count": 10,
   "metadata": {
    "colab": {
     "base_uri": "https://localhost:8080/"
    },
    "executionInfo": {
     "elapsed": 344,
     "status": "ok",
     "timestamp": 1652528826976,
     "user": {
      "displayName": "TECOB206_ Rohit-Joshi",
      "userId": "15434995234180682292"
     },
     "user_tz": -330
    },
    "id": "TKAJLZkEXPXg",
    "outputId": "271effb6-1eb1-42e4-aa08-b95e887ce66a"
   },
   "outputs": [
    {
     "name": "stdout",
     "output_type": "stream",
     "text": [
      "Parts of Speech:  [('real', 'JJ'), ('madrid', 'NN'), ('is', 'VBZ'), ('set', 'VBN'), ('to', 'TO'), ('win', 'VB'), ('the', 'DT'), ('ucl', 'NN'), ('for', 'IN'), ('the', 'DT'), ('season', 'NN'), ('.', '.'), ('benzema', 'NN'), ('might', 'MD'), ('win', 'VB'), ('balon', 'NN'), ('dor', 'NN'), ('.', '.'), ('salah', 'NN'), ('might', 'MD'), ('be', 'VB'), ('the', 'DT'), ('runner', 'NN'), ('up', 'RP')]\n"
     ]
    }
   ],
   "source": [
    "print(\"Parts of Speech: \",nltk.pos_tag(lemme))"
   ]
  },
  {
   "cell_type": "raw",
   "metadata": {},
   "source": [
    "'real': Adjective (JJ)\n",
    "'madrid': Noun (NN)\n",
    "'is': Verb, 3rd person singular present (VBZ)\n",
    "'set': Verb, past participle (VBN)\n",
    "'to': to (TO)\n",
    "'win': Verb, base form (VB)\n",
    "'the': Determiner (DT)\n",
    "'ucl': Noun (NN)\n",
    "'for': Preposition or subordinating conjunction (IN)\n",
    "'the': Determiner (DT)\n",
    "'season': Noun (NN)\n",
    "'.': Punctuation (.)\n",
    "'benzema': Noun (NN)\n",
    "'might': Verb, modal auxiliary (MD)\n",
    "'win': Verb, base form (VB)\n",
    "'balon': Noun (NN)\n",
    "'dor': Noun (NN)\n",
    "'.': Punctuation (.)\n",
    "'salah': Noun (NN)\n",
    "'might': Verb, modal auxiliary (MD)\n",
    "'be': Verb, base form (VB)\n",
    "'the': Determiner (DT)\n",
    "'runner': Noun (NN)\n",
    "'up': Particle (RP)"
   ]
  },
  {
   "cell_type": "markdown",
   "metadata": {
    "id": "KWA2VzV2goj7"
   },
   "source": [
    "### Stop Word"
   ]
  },
  {
   "cell_type": "code",
   "execution_count": 11,
   "metadata": {
    "colab": {
     "base_uri": "https://localhost:8080/"
    },
    "executionInfo": {
     "elapsed": 340,
     "status": "ok",
     "timestamp": 1652528829409,
     "user": {
      "displayName": "TECOB206_ Rohit-Joshi",
      "userId": "15434995234180682292"
     },
     "user_tz": -330
    },
    "id": "smr18K1jY5bk",
    "outputId": "acf424e1-e4c3-45c8-86ce-b282d2f1f522"
   },
   "outputs": [
    {
     "name": "stdout",
     "output_type": "stream",
     "text": [
      "['i', 'me', 'my', 'myself', 'we', 'our', 'ours', 'ourselves', 'you', \"you're\", \"you've\", \"you'll\", \"you'd\", 'your', 'yours', 'yourself', 'yourselves', 'he', 'him', 'his', 'himself', 'she', \"she's\", 'her', 'hers', 'herself', 'it', \"it's\", 'its', 'itself', 'they', 'them', 'their', 'theirs', 'themselves', 'what', 'which', 'who', 'whom', 'this', 'that', \"that'll\", 'these', 'those', 'am', 'is', 'are', 'was', 'were', 'be', 'been', 'being', 'have', 'has', 'had', 'having', 'do', 'does', 'did', 'doing', 'a', 'an', 'the', 'and', 'but', 'if', 'or', 'because', 'as', 'until', 'while', 'of', 'at', 'by', 'for', 'with', 'about', 'against', 'between', 'into', 'through', 'during', 'before', 'after', 'above', 'below', 'to', 'from', 'up', 'down', 'in', 'out', 'on', 'off', 'over', 'under', 'again', 'further', 'then', 'once', 'here', 'there', 'when', 'where', 'why', 'how', 'all', 'any', 'both', 'each', 'few', 'more', 'most', 'other', 'some', 'such', 'no', 'nor', 'not', 'only', 'own', 'same', 'so', 'than', 'too', 'very', 's', 't', 'can', 'will', 'just', 'don', \"don't\", 'should', \"should've\", 'now', 'd', 'll', 'm', 'o', 're', 've', 'y', 'ain', 'aren', \"aren't\", 'couldn', \"couldn't\", 'didn', \"didn't\", 'doesn', \"doesn't\", 'hadn', \"hadn't\", 'hasn', \"hasn't\", 'haven', \"haven't\", 'isn', \"isn't\", 'ma', 'mightn', \"mightn't\", 'mustn', \"mustn't\", 'needn', \"needn't\", 'shan', \"shan't\", 'shouldn', \"shouldn't\", 'wasn', \"wasn't\", 'weren', \"weren't\", 'won', \"won't\", 'wouldn', \"wouldn't\"]\n"
     ]
    }
   ],
   "source": [
    "# stop words printing\n",
    "sw_nltk = stopwords.words('english')\n",
    "print(sw_nltk)"
   ]
  },
  {
   "cell_type": "code",
   "execution_count": 12,
   "metadata": {
    "colab": {
     "base_uri": "https://localhost:8080/"
    },
    "executionInfo": {
     "elapsed": 7,
     "status": "ok",
     "timestamp": 1652528830878,
     "user": {
      "displayName": "TECOB206_ Rohit-Joshi",
      "userId": "15434995234180682292"
     },
     "user_tz": -330
    },
    "id": "PEdZYnCfYM-B",
    "outputId": "8b54050f-5c60-485b-d9f6-be641dc2cda0"
   },
   "outputs": [
    {
     "name": "stdout",
     "output_type": "stream",
     "text": [
      "Real madrid set win UCL season . Benzema might win Balon dor . Salah might runner\n"
     ]
    }
   ],
   "source": [
    "words = [word for word in text.split() if word.lower() not in sw_nltk]\n",
    "new_text = \" \".join(words)\n",
    "print(new_text)"
   ]
  },
  {
   "cell_type": "code",
   "execution_count": 13,
   "metadata": {},
   "outputs": [
    {
     "name": "stdout",
     "output_type": "stream",
     "text": [
      "happy\n"
     ]
    }
   ],
   "source": [
    "list1= 'I am very happy'\n",
    "words = [list1 for list1 in list1.split() if list1.lower() not in sw_nltk]\n",
    "new_text = \" \".join(words)\n",
    "print(new_text)"
   ]
  },
  {
   "cell_type": "markdown",
   "metadata": {},
   "source": [
    "# Preprocess documents"
   ]
  },
  {
   "cell_type": "code",
   "execution_count": 14,
   "metadata": {},
   "outputs": [
    {
     "name": "stdout",
     "output_type": "stream",
     "text": [
      "['r', 'e', 'a', 'l', ' ', 'm', 'a', 'd', 'r', 'i', 'd', ' ', 'i', 's', ' ', 's', 'e', 't', ' ', 't', 'o', ' ', 'w', 'i', 'n', ' ', 't', 'h', 'e', ' ', 'u', 'c', 'l', ' ', 'f', 'o', 'r', ' ', 't', 'h', 'e', ' ', 's', 'e', 'a', 's', 'o', 'n', ' ', '.', ' ', 'b', 'e', 'n', 'z', 'e', 'm', 'a', ' ', 'm', 'i', 'g', 'h', 't', ' ', 'w', 'i', 'n', ' ', 'b', 'a', 'l', 'o', 'n', ' ', 'd', 'o', 'r', ' ', '.', ' ', 's', 'a', 'l', 'a', 'h', ' ', 'm', 'i', 'g', 'h', 't', ' ', 'b', 'e', ' ', 't', 'h', 'e', ' ', 'r', 'u', 'n', 'n', 'e', 'r', ' ', 'u', 'p']\n"
     ]
    }
   ],
   "source": [
    "def preprocess_document(doc):\n",
    "   \n",
    "  return doc.lower()\n",
    "\n",
    "preprocessed_documents = [preprocess_document(doc) for doc in text]\n",
    "print(preprocessed_documents)"
   ]
  },
  {
   "cell_type": "markdown",
   "metadata": {},
   "source": [
    "# Calculate TF-IDF"
   ]
  },
  {
   "cell_type": "code",
   "execution_count": 19,
   "metadata": {},
   "outputs": [],
   "source": [
    "# Calculate TF-IDF\n",
    "from sklearn.feature_extraction.text import TfidfVectorizer\n",
    "tfidf_vectorizer = TfidfVectorizer(tokenizer=lambda x: x, lowercase=False)\n",
    "tfidf_matrix = tfidf_vectorizer.fit_transform(preprocessed_documents)\n"
   ]
  },
  {
   "cell_type": "code",
   "execution_count": 20,
   "metadata": {},
   "outputs": [
    {
     "name": "stdout",
     "output_type": "stream",
     "text": [
      "[[0. 0. 0. ... 0. 0. 0.]\n",
      " [0. 0. 0. ... 0. 0. 0.]\n",
      " [0. 0. 1. ... 0. 0. 0.]\n",
      " ...\n",
      " [1. 0. 0. ... 0. 0. 0.]\n",
      " [0. 0. 0. ... 1. 0. 0.]\n",
      " [0. 0. 0. ... 0. 0. 0.]]\n"
     ]
    }
   ],
   "source": [
    "# Print TF-IDF matrix\n",
    "print(tfidf_matrix.toarray())"
   ]
  },
  {
   "cell_type": "code",
   "execution_count": null,
   "metadata": {},
   "outputs": [],
   "source": []
  }
 ],
 "metadata": {
  "colab": {
   "collapsed_sections": [],
   "name": "TECOB206_ASS7.ipynb",
   "provenance": []
  },
  "kernelspec": {
   "display_name": "Python 3 (ipykernel)",
   "language": "python",
   "name": "python3"
  },
  "language_info": {
   "codemirror_mode": {
    "name": "ipython",
    "version": 3
   },
   "file_extension": ".py",
   "mimetype": "text/x-python",
   "name": "python",
   "nbconvert_exporter": "python",
   "pygments_lexer": "ipython3",
   "version": "3.9.12"
  }
 },
 "nbformat": 4,
 "nbformat_minor": 1
}
